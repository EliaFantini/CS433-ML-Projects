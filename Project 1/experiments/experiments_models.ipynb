{
 "cells": [
  {
   "cell_type": "code",
   "execution_count": 63,
   "metadata": {
    "collapsed": true
   },
   "outputs": [
    {
     "name": "stdout",
     "output_type": "stream",
     "text": [
      "The autoreload extension is already loaded. To reload it, use:\n",
      "  %reload_ext autoreload\n"
     ]
    }
   ],
   "source": [
    "import numpy as np\n",
    "\n",
    "from preprocessing import final_preprocessing\n",
    "from utils import load_csv_data,train_test_split, predict_labels\n",
    "from implementations import least_squares,predict_probabilities, least_squares_GD, least_squares_batch_GD, least_squares_SGD, logistic_regression, reg_logistic_regression, ridge_regression\n",
    "from metrics import accuracy_score\n",
    "from helper import tune_hyperparameter\n",
    "%load_ext autoreload\n",
    "%autoreload 2"
   ]
  },
  {
   "cell_type": "code",
   "execution_count": 64,
   "metadata": {
    "pycharm": {
     "name": "#%%\n"
    }
   },
   "outputs": [],
   "source": [
    "#loading data\n",
    "DATA_TRAIN_PATH = '../data/train.csv'\n",
    "DATA_TEST_PATH = '../data/test.csv'\n",
    "y, X, _ = load_csv_data(DATA_TRAIN_PATH)"
   ]
  },
  {
   "cell_type": "code",
   "execution_count": 65,
   "metadata": {
    "pycharm": {
     "name": "#%%\n"
    }
   },
   "outputs": [
    {
     "name": "stderr",
     "output_type": "stream",
     "text": [
      "100%|██████████| 30/30 [00:49<00:00,  1.66s/it]\n"
     ]
    }
   ],
   "source": [
    "#preprocessing data\n",
    "X_processed = final_preprocessing(X)"
   ]
  },
  {
   "cell_type": "code",
   "execution_count": 66,
   "metadata": {
    "pycharm": {
     "name": "#%%\n"
    }
   },
   "outputs": [],
   "source": [
    "#setting fixed values\n",
    "seed=23\n",
    "k_fold = 4\n",
    "max_iters= 20\n",
    "\n",
    "X_train, y_train, X_test, y_test = train_test_split(X_processed, y , test_size = 0.2 , random_state= 23)"
   ]
  },
  {
   "cell_type": "code",
   "execution_count": 67,
   "metadata": {
    "pycharm": {
     "name": "#%%\n"
    }
   },
   "outputs": [
    {
     "name": "stdout",
     "output_type": "stream",
     "text": [
      "Least squares- accuracy on test data: 0.80614\n"
     ]
    }
   ],
   "source": [
    "#least squares\n",
    "\n",
    "w_ls , _ = least_squares(y_train, X_train)\n",
    "pred_prob = predict_labels( X_test, w_ls )\n",
    "accuracy = accuracy_score(y_test, pred_prob)\n",
    "print(\"Least squares- accuracy on test data: \" + str(accuracy)  )"
   ]
  },
  {
   "cell_type": "code",
   "execution_count": 68,
   "metadata": {
    "pycharm": {
     "name": "#%%\n"
    }
   },
   "outputs": [
    {
     "name": "stdout",
     "output_type": "stream",
     "text": [
      "Best hyperparameters: hyperparameter 1 = 0.0001 hyperparameter 2 = 0 accuracy: 0.69285\n",
      "Least squares GD- accuracy on test data: 0.6971\n"
     ]
    }
   ],
   "source": [
    "#least_squares_GD\n",
    "\n",
    "gammas= np.logspace(-10,-4,5)\n",
    "gamma_gd, _, w_gd = tune_hyperparameter(y_train, X_train, seed = seed, max_iters= max_iters, k_fold= k_fold , hyperparameters=gammas, regression_function= least_squares_GD)\n",
    "pred_prob = predict_labels( X_test, w_gd)\n",
    "accuracy = accuracy_score(y_test, pred_prob)\n",
    "print(\"Least squares GD- accuracy on test data: \" + str(accuracy) )"
   ]
  },
  {
   "cell_type": "code",
   "execution_count": 69,
   "metadata": {
    "pycharm": {
     "name": "#%%\n"
    }
   },
   "outputs": [
    {
     "name": "stdout",
     "output_type": "stream",
     "text": [
      "Best hyperparameters: hyperparameter 1 = 0.0004641588833612782 hyperparameter 2 = 0 accuracy: 0.68948\n",
      "Least squares SGD- accuracy on test data: 0.69528\n"
     ]
    }
   ],
   "source": [
    "#least_squares_SGD\n",
    "\n",
    "gammas= np.logspace(-5, 0, 10)\n",
    "gamma_sgd, _, w_sgd = tune_hyperparameter(y_train, X_train, seed = seed, max_iters= max_iters, k_fold= k_fold , hyperparameters=gammas, regression_function= least_squares_SGD )\n",
    "pred_prob = predict_labels( X_test, w_sgd )\n",
    "accuracy = accuracy_score(y_test, pred_prob)\n",
    "print(\"Least squares SGD- accuracy on test data: \" + str(accuracy) )"
   ]
  },
  {
   "cell_type": "code",
   "execution_count": 70,
   "metadata": {
    "pycharm": {
     "name": "#%%\n"
    }
   },
   "outputs": [
    {
     "name": "stdout",
     "output_type": "stream",
     "text": [
      "Best hyperparameters: hyperparameter 1 = 0.0031622776601683794 hyperparameter 2 = 100 accuracy: 0.71581\n",
      "Least squares batch GD- accuracy on test data: 0.72114\n"
     ]
    }
   ],
   "source": [
    "#least_squares_batch_GD\n",
    "\n",
    "gammas= np.logspace(-5, 0, 5)\n",
    "batch_sizes = [10,100, 1000]\n",
    "gamma_batch_gd, _, w_batch_gd = tune_hyperparameter(y_train, X_train, seed = seed, max_iters= max_iters, k_fold= k_fold , hyperparameters=gammas, hyperparameters_2= batch_sizes, regression_function= least_squares_batch_GD )\n",
    "pred_prob = predict_labels( X_test, w_batch_gd )\n",
    "accuracy = accuracy_score(y_test, pred_prob)\n",
    "print(\"Least squares batch GD- accuracy on test data: \" + str(accuracy) )"
   ]
  },
  {
   "cell_type": "code",
   "execution_count": 71,
   "metadata": {
    "pycharm": {
     "name": "#%%\n"
    }
   },
   "outputs": [
    {
     "name": "stdout",
     "output_type": "stream",
     "text": [
      "Best hyperparameters: hyperparameter 1 = 2.782559402207126e-06 hyperparameter 2 = 0 accuracy: 0.80363\n",
      "Ridge regression- accuracy on test data: 0.80606\n"
     ]
    }
   ],
   "source": [
    "#ridge regression\n",
    "\n",
    "lambdas= np.logspace(-10, 0, 10)\n",
    "lambda_ridge_r, _, w_ridge_r = tune_hyperparameter(y_train, X_train, seed = seed, max_iters= max_iters, k_fold= k_fold , hyperparameters=lambdas, regression_function= ridge_regression)\n",
    "pred_prob = predict_labels(X_test, w_ridge_r )\n",
    "accuracy = accuracy_score(y_test, pred_prob)\n",
    "print(\"Ridge regression- accuracy on test data: \" + str(accuracy) )"
   ]
  },
  {
   "cell_type": "code",
   "execution_count": 72,
   "metadata": {
    "pycharm": {
     "name": "#%%\n"
    }
   },
   "outputs": [],
   "source": [
    "# new training and test data using [0,1] labels for logistic regression methods\n",
    "\n",
    "X_train, y_train, X_test, y_test = train_test_split(X_processed, y == 1 , test_size = 0.2 , random_state= 23)"
   ]
  },
  {
   "cell_type": "code",
   "execution_count": 73,
   "outputs": [
    {
     "name": "stdout",
     "output_type": "stream",
     "text": [
      "Best hyperparameters: hyperparameter 1 = 0.16681005372000587 hyperparameter 2 = 0 accuracy: 0.809765\n",
      "Logistic regression- accuracy on test data: 0.81222\n"
     ]
    }
   ],
   "source": [
    "#logistic regression\n",
    "\n",
    "gammas= np.logspace(-1, 0, 10)\n",
    "lambda_log_reg, _, w_log_reg = tune_hyperparameter(y_train, X_train, seed = seed, max_iters= max_iters, k_fold= k_fold , hyperparameters=gammas, regression_function= logistic_regression)\n",
    "pred_prob = predict_probabilities(  X_test, w_log_reg ) > 0.5\n",
    "accuracy = accuracy_score(y_test, pred_prob)\n",
    "print(\"Logistic regression- accuracy on test data: \" + str(accuracy) )"
   ],
   "metadata": {
    "collapsed": false,
    "pycharm": {
     "name": "#%%\n"
    }
   }
  },
  {
   "cell_type": "code",
   "execution_count": 74,
   "metadata": {
    "pycharm": {
     "name": "#%%\n"
    }
   },
   "outputs": [
    {
     "name": "stdout",
     "output_type": "stream",
     "text": [
      "Best hyperparameters: hyperparameter 1 = 0.1778279410038923 hyperparameter 2 = 0.1 accuracy: 0.80461\n",
      "Regularized logistic regression- accuracy on test data: 0.80814\n"
     ]
    }
   ],
   "source": [
    "#regularized logistic regression\n",
    "\n",
    "gammas= np.logspace(-1, 0, 5)\n",
    "lambdas = np.logspace(-1, 0, 5)\n",
    "lambda_reg_log_r, _, w_reg_log_r = tune_hyperparameter(y_train, X_train, seed = seed, max_iters= max_iters, k_fold= k_fold , hyperparameters=gammas, hyperparameters_2= lambdas, regression_function= reg_logistic_regression)\n",
    "pred_prob = predict_probabilities(  X_test, w_reg_log_r ) > 0.5\n",
    "accuracy = accuracy_score(y_test, pred_prob)\n",
    "print(\"Regularized logistic regression- accuracy on test data: \" + str(accuracy) )\n"
   ]
  },
  {
   "cell_type": "markdown",
   "source": [
    "Experiment were also executed with a higher max_iter parameter, but since the result didn't change,\n",
    "we used this for faster reproducibility. The best method is hence logistic regression, with the highest accuracy."
   ],
   "metadata": {
    "collapsed": false
   }
  }
 ],
 "metadata": {
  "kernelspec": {
   "name": "pycharm-8f20d7e5",
   "language": "python",
   "display_name": "PyCharm (ml-project-1-pasta_balalaika)"
  },
  "language_info": {
   "codemirror_mode": {
    "name": "ipython",
    "version": 3
   },
   "file_extension": ".py",
   "mimetype": "text/x-python",
   "name": "python",
   "nbconvert_exporter": "python",
   "pygments_lexer": "ipython3",
   "version": "3.8.8"
  }
 },
 "nbformat": 4,
 "nbformat_minor": 1
}